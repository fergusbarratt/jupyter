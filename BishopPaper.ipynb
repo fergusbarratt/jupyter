{
 "cells": [
  {
   "cell_type": "code",
   "execution_count": 1,
   "metadata": {
    "collapsed": true
   },
   "outputs": [],
   "source": [
    "%matplotlib inline"
   ]
  },
  {
   "cell_type": "code",
   "execution_count": 2,
   "metadata": {
    "collapsed": false
   },
   "outputs": [],
   "source": [
    "import matplotlib.pyplot as plt\n",
    "import qutip as qt\n",
    "import numpy as np\n",
    "import scipy.optimize as sp"
   ]
  },
  {
   "cell_type": "code",
   "execution_count": 113,
   "metadata": {
    "collapsed": false
   },
   "outputs": [],
   "source": [
    "omegacav = 9.07*10**9\n",
    "omegad = 8.07*10**9\n",
    "det = -1*10**9*2\n",
    "kappa = 0.001*10**9*2\n",
    "g = 0.2*10**9\n",
    "sigmaz = -1\n",
    "\n",
    "def chi(Asq):\n",
    "    return (sigmaz * g**2) / (np.sqrt(2*g**2 *(Asq + sigmaz) + (det)**2))\n",
    "def f(Asq, xi):\n",
    "    return omegacav**2*xi**2/(\n",
    "        (omegad**2-(omegacav-chi(Asq)**2)**2)+kappa**2*omegad**2) - Asq"
   ]
  },
  {
   "cell_type": "code",
   "execution_count": 119,
   "metadata": {
    "collapsed": false
   },
   "outputs": [
    {
     "data": {
      "text/plain": [
       "[<matplotlib.text.Text at 0x1102a20b8>,\n",
       " <matplotlib.text.Text at 0x1102ace48>,\n",
       " <matplotlib.text.Text at 0x1102cee80>,\n",
       " <matplotlib.text.Text at 0x1102cf8d0>,\n",
       " <matplotlib.text.Text at 0x1102d4320>,\n",
       " <matplotlib.text.Text at 0x1102d4d30>]"
      ]
     },
     "execution_count": 119,
     "metadata": {},
     "output_type": "execute_result"
    },
    {
     "data": {
      "image/png": "[encoded data removed]",
      "text/plain": [
       "<matplotlib.figure.Figure at 0x110295048>"
      ]
     },
     "metadata": {},
     "output_type": "display_data"
    }
   ],
   "source": [
    "# -*- coding: utf-8 -*-\n",
    "lower = 10**1\n",
    "upper = 10**3\n",
    "spacing = 10**4\n",
    "\n",
    "fig, ax = plt.subplots(1, 1)\n",
    "ax.plot(np.linspace(\n",
    "        lower*kappa, upper*kappa, spacing), \n",
    "        np.array([sp.fsolve(f, 100000000, (e)) for e in np.linspace(\n",
    "        lower*kappa, upper*kappa, spacing)]))\n",
    "ax.set_yscale('log')\n",
    "ax.set_xscale('log')\n",
    "ticks = ax.get_xticks()\n",
    "ax.set_xlabel('$\\\\xi$')\n",
    "ax.set_ylabel('$A^2/2$')\n",
    "ax.set_xticklabels(ticks/kappa)\n"
   ]
  },
  {
   "cell_type": "code",
   "execution_count": null,
   "metadata": {
    "collapsed": true
   },
   "outputs": [],
   "source": []
  },
  {
   "cell_type": "code",
   "execution_count": null,
   "metadata": {
    "collapsed": true
   },
   "outputs": [],
   "source": []
  }
 ],
 "metadata": {
  "kernelspec": {
   "display_name": "Python 3",
   "language": "python",
   "name": "python3"
  },
  "language_info": {
   "codemirror_mode": {
    "name": "ipython",
    "version": 3
   },
   "file_extension": ".py",
   "mimetype": "text/x-python",
   "name": "python",
   "nbconvert_exporter": "python",
   "pygments_lexer": "ipython3",
   "version": "3.5.0"
  }
 },
 "nbformat": 4,
 "nbformat_minor": 0
}
