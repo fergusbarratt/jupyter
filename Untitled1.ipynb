{
 "cells": [
  {
   "cell_type": "code",
   "execution_count": 114,
   "metadata": {
    "collapsed": false
   },
   "outputs": [
    {
     "data": {
      "text/plain": [
       "array([[ 0.+0.j,  0.+0.j,  0.+0.j,  0.+0.j],\n",
       "       [ 0.+0.j,  0.+0.j,  1.+0.j,  0.+0.j],\n",
       "       [ 0.+0.j,  0.+0.j,  0.+0.j,  0.+0.j],\n",
       "       [ 0.+0.j,  0.+0.j,  0.+0.j,  0.+0.j]])"
      ]
     },
     "execution_count": 114,
     "metadata": {},
     "output_type": "execute_result"
    }
   ],
   "source": [
    "import numpy as np\n",
    "from functools import reduce\n",
    "import qutip as qt\n",
    "\n",
    "dim = 4\n",
    "basis = [qt.basis(dim, i).full() for i in range(dim)]\n",
    "def re_shuffle(array, m, n):\n",
    "    return np.asarray([[np.trace(np.outer(basis[i], basis[j]).T.dot(array)) for i in range(m)] for j in range(n)])\n",
    "\n",
    "def res_shuffle(array, m, n):\n",
    "    return np.asarray([[res(np.outer(basis[i], basis[j])).dot(res(array)) for i in range(m)] for j in range(n)])\n",
    "\n",
    "def res(array):\n",
    "    ret_list = []\n",
    "    for row in array:\n",
    "        ret_list+=list(row)\n",
    "    return np.asarray(ret_list)\n",
    "def vec(array):\n",
    "    ret_list = []\n",
    "    for col in array.T:\n",
    "        ret_list+=list(col.T)\n",
    "    return np.asarray(ret_list)\n",
    "\n",
    "\n",
    "np.outer(basis[1], basis[2])"
   ]
  },
  {
   "cell_type": "code",
   "execution_count": 108,
   "metadata": {
    "collapsed": false
   },
   "outputs": [
    {
     "data": {
      "text/plain": [
       "(array([[ 0.48348971+0.j,  0.09936703+0.j],\n",
       "        [ 0.19412016+0.j,  0.17679642+0.j]]),\n",
       " array([[ 0.48348971,  0.09936703,  0.06045997,  0.67951359],\n",
       "        [ 0.19412016,  0.17679642,  0.95827167,  0.6548132 ],\n",
       "        [ 0.14543544,  0.1615321 ,  0.04648645,  0.25423551],\n",
       "        [ 0.70812566,  0.75772572,  0.76014093,  0.99633174]]))"
      ]
     },
     "execution_count": 108,
     "metadata": {},
     "output_type": "execute_result"
    }
   ],
   "source": [
    "rand_mat = np.random.rand(dim, dim)\n",
    "res_shuffle(rand_mat, 2, 2), rand_mat"
   ]
  },
  {
   "cell_type": "code",
   "execution_count": null,
   "metadata": {
    "collapsed": false
   },
   "outputs": [],
   "source": []
  },
  {
   "cell_type": "code",
   "execution_count": null,
   "metadata": {
    "collapsed": true
   },
   "outputs": [],
   "source": []
  }
 ],
 "metadata": {
  "kernelspec": {
   "display_name": "Python 3",
   "language": "python",
   "name": "python3"
  },
  "language_info": {
   "codemirror_mode": {
    "name": "ipython",
    "version": 3
   },
   "file_extension": ".py",
   "mimetype": "text/x-python",
   "name": "python",
   "nbconvert_exporter": "python",
   "pygments_lexer": "ipython3",
   "version": "3.5.0"
  }
 },
 "nbformat": 4,
 "nbformat_minor": 0
}
