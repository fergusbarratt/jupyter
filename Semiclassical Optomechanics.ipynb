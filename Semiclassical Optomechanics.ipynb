{
 "cells": [
  {
   "cell_type": "markdown",
   "metadata": {},
   "source": [
    "## Semiclassical Optomechanics\n",
    "\n",
    "Solves the semiclassical equations of motion for a coupled field mode and mechanical DOF \n",
    "$$ \\dot{\\alpha} = -\\kappa/2 \\alpha + i(\\Delta + Gx) \\alpha + \\sqrt{\\kappa_{ex}} \\alpha_{in}  $$\n",
    "$$m_{eff} \\ddot{x} = -m_{eff} \\Omega_m^2 x - m_{eff} \\gamma_{m} \\dot{x} + \\hbar G |\\alpha|^2 $$\n",
    "from (Aspelmeyer, Rev. Mod. Phys.. Vol. 86 No. 4 2011)"
   ]
  },
  {
   "cell_type": "code",
   "execution_count": 22,
   "metadata": {
    "collapsed": true
   },
   "outputs": [],
   "source": [
    "%matplotlib inline\n",
    "import scipy.integrate as sp\n",
    "import numpy as np\n",
    "import qutip as qt\n",
    "import matplotlib.pyplot as plt\n",
    "hbar = 1"
   ]
  },
  {
   "cell_type": "code",
   "execution_count": 218,
   "metadata": {
    "collapsed": false
   },
   "outputs": [],
   "source": [
    "%%capture\n",
    "def vec_field(vars, t, params):\n",
    "    g, meff, omegam, gamma, G, kappa, kappaex, delta, ain = params\n",
    "    q, x, alpha = vars\n",
    "    return [-meff*omegam**2*x - meff*gamma*q+hbar*G*alpha**2, \n",
    "            q, -kappa*alpha + 1j*(\n",
    "                delta+g*x)*alpha + np.sqrt(kappaex)*ain]\n",
    "\n",
    "g=100\n",
    "meff=1\n",
    "omegam=1\n",
    "gamma=1\n",
    "G=1\n",
    "kappa=1\n",
    "kappaex=1\n",
    "delta=0\n",
    "ain=10\n",
    "\n",
    "params = [g, meff, omegam, gamma, G, kappa, kappaex, delta, ain]\n",
    "initial_vars = [0, 0, 0]\n",
    "t = np.linspace(1, 40, 100)\n",
    "sol = sp.odeint(vec_field, initial_vars, t, args=(params,))"
   ]
  },
  {
   "cell_type": "code",
   "execution_count": 220,
   "metadata": {
    "collapsed": false
   },
   "outputs": [
    {
     "data": {
      "text/plain": [
       "<matplotlib.text.Text at 0x11d9b8c18>"
      ]
     },
     "execution_count": 220,
     "metadata": {},
     "output_type": "execute_result"
    },
    {
     "data": {
      "image/png": "[encoded data removed]",
      "text/plain": [
       "<matplotlib.figure.Figure at 0x11d8f2dd8>"
      ]
     },
     "metadata": {},
     "output_type": "display_data"
    }
   ],
   "source": [
    "fig, ax = plt.subplots(2, 1)\n",
    "fig.suptitle(\n",
    "    'g={0}, $m_f$={1},$\\Omega_m$={2}, $\\Gamma_m$={3}, G={4}, $\\kappa$={5}, {6}, $\\Delta$={7}, $a_i$={8} \\\n",
    "    '.format(*params), x=0.54, y=0.999)\n",
    "ax[0].plot(t, sol[:, 1])\n",
    "ax[0].set_xlabel('time')\n",
    "ax[0].set_ylabel('mirror displacement')\n",
    "ax[1].plot(t, sol[:, 2])\n",
    "ax[1].set_xlabel('time')\n",
    "ax[1].set_ylabel('cavity field')"
   ]
  }
 ],
 "metadata": {
  "kernelspec": {
   "display_name": "Python 3",
   "language": "python",
   "name": "python3"
  },
  "language_info": {
   "codemirror_mode": {
    "name": "ipython",
    "version": 3
   },
   "file_extension": ".py",
   "mimetype": "text/x-python",
   "name": "python",
   "nbconvert_exporter": "python",
   "pygments_lexer": "ipython3",
   "version": "3.5.0"
  }
 },
 "nbformat": 4,
 "nbformat_minor": 0
}
