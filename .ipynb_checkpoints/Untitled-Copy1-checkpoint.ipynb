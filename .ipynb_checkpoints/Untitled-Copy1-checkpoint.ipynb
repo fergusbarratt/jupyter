{
 "cells": [
  {
   "cell_type": "markdown",
   "metadata": {},
   "source": [
    "## Semiclassical Optomechanics\n",
    "\n",
    "Solves the semiclassical equations of motion \n",
    "$$ \\dot{\\alpha} = -\\kappa/2 \\alpha + i(\\Delta + Gx) \\alpha + \\sqrt{\\kappa_{ex}} \\alpha_{in} $$\n",
    " $$m_{eff} \\ddot{x} = -m_{eff} \\Omega_m^2 x - m_{eff} \\gamma_{m} \\dot{x} + \\hbar G |\\alpha|^2$$\n",
    "from (Rev. Mod. Phys.. Vol. 86 No. 4 2011) for various parameters"
   ]
  },
  {
   "cell_type": "code",
   "execution_count": 22,
   "metadata": {
    "collapsed": true
   },
   "outputs": [],
   "source": [
    "%matplotlib inline\n",
    "import scipy.integrate as sp\n",
    "import numpy as np\n",
    "import qutip as qt\n",
    "import matplotlib.pyplot as plt\n",
    "hbar = 1"
   ]
  },
  {
   "cell_type": "code",
   "execution_count": 63,
   "metadata": {
    "collapsed": false
   },
   "outputs": [],
   "source": [
    "%%capture\n",
    "def vec_field(vars, t, params):\n",
    "    g, meff, omegam, gamma, G, kappa, delta, ain = params\n",
    "    q, x, alpha = vars\n",
    "    return [-meff*omegam**2*x - meff*gamma*q+hbar*G*alpha**2, \n",
    "            q, -kappa*alpha + 1j*(\n",
    "                delta+g*x)*alpha + np.sqrt(kappa)*ain]\n",
    "\n",
    "params = [1, 1, 1, 1, 1, 1, 0, 10]\n",
    "initial_vars = [0, 1, 0]\n",
    "t = np.linspace(1, 40, 100)\n",
    "sol = sp.odeint(vec_field, initial_vars, t, args=(params,))"
   ]
  },
  {
   "cell_type": "code",
   "execution_count": 90,
   "metadata": {
    "collapsed": false,
    "scrolled": true
   },
   "outputs": [
    {
     "data": {
      "text/plain": [
       "<matplotlib.text.Text at 0x11731a390>"
      ]
     },
     "execution_count": 90,
     "metadata": {},
     "output_type": "execute_result"
    },
    {
     "data": {
      "image/png": "[encoded data removed]",
      "text/plain": [
       "<matplotlib.figure.Figure at 0x117fff4e0>"
      ]
     },
     "metadata": {},
     "output_type": "display_data"
    }
   ],
   "source": [
    "fig, ax = plt.subplots(2, 1)\n",
    "fig.suptitle(\n",
    "    'g={0}, meff={1},omegam={2}, gamma={3}, G={4}, kappa={5}, delta={6}, ain={7} \\\n",
    "    '.format(*params), x=0.54, y=0.999)\n",
    "ax[0].plot(t, sol[:, 1])\n",
    "ax[0].set_xlabel('time')\n",
    "ax[0].set_ylabel('mirror displacement')\n",
    "ax[1].plot(t, sol[:, 2])\n",
    "ax[1].set_xlabel('time')\n",
    "ax[1].set_ylabel('cavity field')"
   ]
  },
  {
   "cell_type": "markdown",
   "metadata": {},
   "source": []
  },
  {
   "cell_type": "code",
   "execution_count": null,
   "metadata": {
    "collapsed": true
   },
   "outputs": [],
   "source": []
  }
 ],
 "metadata": {
  "kernelspec": {
   "display_name": "Python 3",
   "language": "python",
   "name": "python3"
  },
  "language_info": {
   "codemirror_mode": {
    "name": "ipython",
    "version": 3
   },
   "file_extension": ".py",
   "mimetype": "text/x-python",
   "name": "python",
   "nbconvert_exporter": "python",
   "pygments_lexer": "ipython3",
   "version": "3.5.0"
  }
 },
 "nbformat": 4,
 "nbformat_minor": 0
}
