{
 "cells": [
  {
   "cell_type": "code",
   "execution_count": 8,
   "metadata": {
    "collapsed": true
   },
   "outputs": [],
   "source": [
    "%matplotlib inline\n",
    "import numpy as np\n",
    "import scipy.integrate as sp\n",
    "import matplotlib.pyplot as plt"
   ]
  },
  {
   "cell_type": "code",
   "execution_count": 15,
   "metadata": {
    "collapsed": false
   },
   "outputs": [],
   "source": [
    "%%capture\n",
    "def f(x, mu=0.2):\n",
    "    return 4*mu*x*(1-x)\n",
    "# t = np.linspace(1, 2, 100)\n",
    "# sol = sp.odeint(f, 200, t)\n",
    "# plt.plot(t, sol)\n",
    "def iterate(func, n_iters, time_points = [2]):\n",
    "    return_list = []\n",
    "    for time in time_points:\n",
    "        initial_val = time\n",
    "        vals = []\n",
    "        for _ in range(n_iters):\n",
    "            initial_val = func(initial_val)\n",
    "            vals.append(initial_val)\n",
    "        return_list.append(vals)\n",
    "    return return_list\n",
    "sol = iterate(np.cos, 50)"
   ]
  },
  {
   "cell_type": "code",
   "execution_count": 16,
   "metadata": {
    "collapsed": false
   },
   "outputs": [
    {
     "name": "stdout",
     "output_type": "stream",
     "text": [
      "[[-0.41614683654714241, 0.91465332585237136, 0.61006529974297452, 0.81961060800009045, 0.68250585789600182, 0.77599461312159923, 0.71372473400838821, 0.75592871357470293, 0.72763479231468131, 0.74674960173097293, 0.73390059724260082, 0.74256755030146182, 0.73673485839381647, 0.74066626387394907, 0.73801914118078926, 0.73980277821093532, 0.73860152863510509, 0.73941080863878528, 0.7388657151407354, 0.73923291807696279, 0.73898557548393717, 0.73915219283758971, 0.73903995938502343, 0.73911556209641871, 0.73906463561254809, 0.73909894049158498, 0.7390758323972213, 0.73909139832603832, 0.73908091294660416, 0.73908797603224485, 0.73908321825638945, 0.73908642315306916, 0.7390842642968537, 0.73908571852870564, 0.7390847389407893, 0.73908539880306257, 0.73908495431192911, 0.73908525372651768, 0.7390850520372555, 0.7390851878975716, 0.73908509638042963, 0.73908515802747798, 0.73908511650128506, 0.73908514447382823, 0.73908512563118678, 0.73908513832381662, 0.7390851297739085, 0.73908513553322952, 0.73908513165368162, 0.73908513426699174]]\n"
     ]
    },
    {
     "data": {
      "text/plain": [
       "[<matplotlib.lines.Line2D at 0x105c80860>]"
      ]
     },
     "execution_count": 16,
     "metadata": {},
     "output_type": "execute_result"
    },
    {
     "data": {
      "image/png": "[encoded data removed]",
      "text/plain": [
       "<matplotlib.figure.Figure at 0x105adeef0>"
      ]
     },
     "metadata": {},
     "output_type": "display_data"
    }
   ],
   "source": [
    "print(sol)\n",
    "plt.plot(sol[0])"
   ]
  },
  {
   "cell_type": "code",
   "execution_count": null,
   "metadata": {
    "collapsed": true
   },
   "outputs": [],
   "source": []
  },
  {
   "cell_type": "code",
   "execution_count": null,
   "metadata": {
    "collapsed": true
   },
   "outputs": [],
   "source": []
  },
  {
   "cell_type": "code",
   "execution_count": null,
   "metadata": {
    "collapsed": true
   },
   "outputs": [],
   "source": []
  },
  {
   "cell_type": "code",
   "execution_count": null,
   "metadata": {
    "collapsed": true
   },
   "outputs": [],
   "source": []
  },
  {
   "cell_type": "code",
   "execution_count": null,
   "metadata": {
    "collapsed": true
   },
   "outputs": [],
   "source": []
  },
  {
   "cell_type": "code",
   "execution_count": null,
   "metadata": {
    "collapsed": true
   },
   "outputs": [],
   "source": []
  },
  {
   "cell_type": "code",
   "execution_count": null,
   "metadata": {
    "collapsed": true
   },
   "outputs": [],
   "source": []
  }
 ],
 "metadata": {
  "kernelspec": {
   "display_name": "Python 3",
   "language": "python",
   "name": "python3"
  },
  "language_info": {
   "codemirror_mode": {
    "name": "ipython",
    "version": 3
   },
   "file_extension": ".py",
   "mimetype": "text/x-python",
   "name": "python",
   "nbconvert_exporter": "python",
   "pygments_lexer": "ipython3",
   "version": "3.5.0"
  }
 },
 "nbformat": 4,
 "nbformat_minor": 0
}
