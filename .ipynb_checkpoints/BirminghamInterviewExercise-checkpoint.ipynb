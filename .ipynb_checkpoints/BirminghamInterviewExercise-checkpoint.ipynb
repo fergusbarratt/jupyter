{
 "cells": [
  {
   "cell_type": "markdown",
   "metadata": {},
   "source": [
    "# Birmingham Interview Exercise\n",
    "\n",
    "The spin-1 matrices have the following 3x3 representations"
   ]
  },
  {
   "cell_type": "code",
   "execution_count": 167,
   "metadata": {
    "collapsed": false,
    "scrolled": true
   },
   "outputs": [
    {
     "data": {
      "text/latex": [
       "Quantum object: dims = [[3], [3]], shape = [3, 3], type = oper, isherm = True\\begin{equation*}\\left(\\begin{array}{*{11}c}1.0 & 0.0 & 0.0\\\\0.0 & 0.0 & 0.0\\\\0.0 & 0.0 & -1.0\\\\\\end{array}\\right)\\end{equation*}"
      ],
      "text/plain": [
       "Quantum object: dims = [[3], [3]], shape = [3, 3], type = oper, isherm = True\n",
       "Qobj data =\n",
       "[[ 1.  0.  0.]\n",
       " [ 0.  0.  0.]\n",
       " [ 0.  0. -1.]]"
      ]
     },
     "execution_count": 167,
     "metadata": {},
     "output_type": "execute_result"
    }
   ],
   "source": [
    "Sz"
   ]
  },
  {
   "cell_type": "code",
   "execution_count": 168,
   "metadata": {
    "collapsed": false,
    "scrolled": true
   },
   "outputs": [
    {
     "data": {
      "text/latex": [
       "Quantum object: dims = [[3], [3]], shape = [3, 3], type = oper, isherm = True\\begin{equation*}\\left(\\begin{array}{*{11}c}0.0 & -0.707j & 0.0\\\\0.707j & 0.0 & -0.707j\\\\0.0 & 0.707j & 0.0\\\\\\end{array}\\right)\\end{equation*}"
      ],
      "text/plain": [
       "Quantum object: dims = [[3], [3]], shape = [3, 3], type = oper, isherm = True\n",
       "Qobj data =\n",
       "[[ 0.+0.j          0.-0.70710678j  0.+0.j        ]\n",
       " [ 0.+0.70710678j  0.+0.j          0.-0.70710678j]\n",
       " [ 0.+0.j          0.+0.70710678j  0.+0.j        ]]"
      ]
     },
     "execution_count": 168,
     "metadata": {},
     "output_type": "execute_result"
    }
   ],
   "source": [
    "Sy"
   ]
  },
  {
   "cell_type": "code",
   "execution_count": 169,
   "metadata": {
    "collapsed": false
   },
   "outputs": [
    {
     "data": {
      "text/latex": [
       "Quantum object: dims = [[3], [3]], shape = [3, 3], type = oper, isherm = True\\begin{equation*}\\left(\\begin{array}{*{11}c}0.0 & 0.707 & 0.0\\\\0.707 & 0.0 & 0.707\\\\0.0 & 0.707 & 0.0\\\\\\end{array}\\right)\\end{equation*}"
      ],
      "text/plain": [
       "Quantum object: dims = [[3], [3]], shape = [3, 3], type = oper, isherm = True\n",
       "Qobj data =\n",
       "[[ 0.          0.70710678  0.        ]\n",
       " [ 0.70710678  0.          0.70710678]\n",
       " [ 0.          0.70710678  0.        ]]"
      ]
     },
     "execution_count": 169,
     "metadata": {},
     "output_type": "execute_result"
    }
   ],
   "source": [
    "Sx"
   ]
  },
  {
   "cell_type": "markdown",
   "metadata": {},
   "source": [
    "The Hamiltonian\n",
    "$$H = J_x S^x_1 S^x_2 + J_y S^y_1 S^y_2 + J_z S^z_1 S^z_2 $$\n",
    "is the weighted sum of tensor products of spin operators, which in the spin basis can be represented as a 9x9 matrix"
   ]
  },
  {
   "cell_type": "code",
   "execution_count": 308,
   "metadata": {
    "collapsed": false
   },
   "outputs": [],
   "source": [
    "def H(Jx, Jy, Jz):\n",
    "    return Jx*qt.tensor(Sx, Sx) + Jy*qt.tensor(Sy, Sy) + Jz*qt.tensor(Sz, Sz)"
   ]
  },
  {
   "cell_type": "markdown",
   "metadata": {},
   "source": [
    "# Jx = Jy = Jz = 1"
   ]
  },
  {
   "cell_type": "code",
   "execution_count": 309,
   "metadata": {
    "collapsed": false
   },
   "outputs": [
    {
     "data": {
      "text/latex": [
       "Quantum object: dims = [[3, 3], [3, 3]], shape = [9, 9], type = oper, isherm = True\\begin{equation*}\\left(\\begin{array}{*{11}c}1.0 & 0.0 & 0.0 & 0.0 & 0.0 & 0.0 & 0.0 & 0.0 & 0.0\\\\0.0 & 0.0 & 0.0 & 1.000 & 0.0 & 0.0 & 0.0 & 0.0 & 0.0\\\\0.0 & 0.0 & -1.0 & 0.0 & 1.000 & 0.0 & 0.0 & 0.0 & 0.0\\\\0.0 & 1.000 & 0.0 & 0.0 & 0.0 & 0.0 & 0.0 & 0.0 & 0.0\\\\0.0 & 0.0 & 1.000 & 0.0 & 0.0 & 0.0 & 1.000 & 0.0 & 0.0\\\\0.0 & 0.0 & 0.0 & 0.0 & 0.0 & 0.0 & 0.0 & 1.000 & 0.0\\\\0.0 & 0.0 & 0.0 & 0.0 & 1.000 & 0.0 & -1.0 & 0.0 & 0.0\\\\0.0 & 0.0 & 0.0 & 0.0 & 0.0 & 1.000 & 0.0 & 0.0 & 0.0\\\\0.0 & 0.0 & 0.0 & 0.0 & 0.0 & 0.0 & 0.0 & 0.0 & 1.0\\\\\\end{array}\\right)\\end{equation*}"
      ],
      "text/plain": [
       "Quantum object: dims = [[3, 3], [3, 3]], shape = [9, 9], type = oper, isherm = True\n",
       "Qobj data =\n",
       "[[ 1.  0.  0.  0.  0.  0.  0.  0.  0.]\n",
       " [ 0.  0.  0.  1.  0.  0.  0.  0.  0.]\n",
       " [ 0.  0. -1.  0.  1.  0.  0.  0.  0.]\n",
       " [ 0.  1.  0.  0.  0.  0.  0.  0.  0.]\n",
       " [ 0.  0.  1.  0.  0.  0.  1.  0.  0.]\n",
       " [ 0.  0.  0.  0.  0.  0.  0.  1.  0.]\n",
       " [ 0.  0.  0.  0.  1.  0. -1.  0.  0.]\n",
       " [ 0.  0.  0.  0.  0.  1.  0.  0.  0.]\n",
       " [ 0.  0.  0.  0.  0.  0.  0.  0.  1.]]"
      ]
     },
     "execution_count": 309,
     "metadata": {},
     "output_type": "execute_result"
    }
   ],
   "source": [
    "H1 = H(1, 1, 1)\n",
    "H1"
   ]
  },
  {
   "cell_type": "markdown",
   "metadata": {},
   "source": [
    "The matrix has dimension 9x9 and is not rank-deficient, and thus has 9 eigenvalues and eigenvectors. The groundstate is the eigenvector corresponding to the lowest eigenvalue (this uses a procedure from [QuTiP](http://qutip.org/) which uses the Cholesky solver from the [Numpy](http://numpy.org/) Library and returns the lowest energy eigenvalue and vector)"
   ]
  },
  {
   "cell_type": "code",
   "execution_count": 342,
   "metadata": {
    "collapsed": false
   },
   "outputs": [
    {
     "data": {
      "text/plain": [
       "True"
      ]
     },
     "execution_count": 342,
     "metadata": {},
     "output_type": "execute_result"
    }
   ],
   "source": [
    "ground_state_energy_1, ground_state_ket_1 = H1.groundstate()\n",
    "np.isclose(ground_state_energy_1, -2)"
   ]
  },
  {
   "cell_type": "markdown",
   "metadata": {},
   "source": [
    "By inspection, the ground state eigenvector can be expressed in terms of the tensor products of N=3 spin states, where the expansion (schmidt) coefficients are \n",
    "$$p_1 = -\\sqrt{\\frac{1}{3}}, p_2 = \\sqrt{\\frac{1}{3}}, p_3 =-\\sqrt{\\frac{1}{3}}$$\n",
    "and the vectors are \n",
    "$$ v_1 = |0, 2 \\rangle, v_2 = |1, 1 \\rangle, v_3 = |2, 0 \\rangle $$"
   ]
  },
  {
   "cell_type": "code",
   "execution_count": 316,
   "metadata": {
    "collapsed": false
   },
   "outputs": [
    {
     "data": {
      "text/latex": [
       "Quantum object: dims = [[3, 3], [1, 1]], shape = [9, 1], type = ket\\begin{equation*}\\left(\\begin{array}{*{11}c}0.0\\\\0.0\\\\-0.577\\\\0.0\\\\0.577\\\\0.0\\\\-0.577\\\\0.0\\\\0.0\\\\\\end{array}\\right)\\end{equation*}"
      ],
      "text/plain": [
       "Quantum object: dims = [[3, 3], [1, 1]], shape = [9, 1], type = ket\n",
       "Qobj data =\n",
       "[[ 0.        ]\n",
       " [ 0.        ]\n",
       " [-0.57735027]\n",
       " [ 0.        ]\n",
       " [ 0.57735027]\n",
       " [ 0.        ]\n",
       " [-0.57735027]\n",
       " [ 0.        ]\n",
       " [ 0.        ]]"
      ]
     },
     "execution_count": 316,
     "metadata": {},
     "output_type": "execute_result"
    }
   ],
   "source": [
    "ground_state_ket_1"
   ]
  },
  {
   "cell_type": "markdown",
   "metadata": {
    "collapsed": false
   },
   "source": [
    "# Jx = 0.1, Jy = 0.2, Jz = 1\n",
    "The non-maximally entangled case"
   ]
  },
  {
   "cell_type": "code",
   "execution_count": 410,
   "metadata": {
    "collapsed": false
   },
   "outputs": [
    {
     "data": {
      "text/latex": [
       "Quantum object: dims = [[3, 3], [3, 3]], shape = [9, 9], type = oper, isherm = True\\begin{equation*}\\left(\\begin{array}{*{11}c}1.0 & 0.0 & 0.0 & 0.0 & -0.050 & 0.0 & 0.0 & 0.0 & 0.0\\\\0.0 & 0.0 & 0.0 & 0.150 & 0.0 & -0.050 & 0.0 & 0.0 & 0.0\\\\0.0 & 0.0 & -1.0 & 0.0 & 0.150 & 0.0 & 0.0 & 0.0 & 0.0\\\\0.0 & 0.150 & 0.0 & 0.0 & 0.0 & 0.0 & 0.0 & -0.050 & 0.0\\\\-0.050 & 0.0 & 0.150 & 0.0 & 0.0 & 0.0 & 0.150 & 0.0 & -0.050\\\\0.0 & -0.050 & 0.0 & 0.0 & 0.0 & 0.0 & 0.0 & 0.150 & 0.0\\\\0.0 & 0.0 & 0.0 & 0.0 & 0.150 & 0.0 & -1.0 & 0.0 & 0.0\\\\0.0 & 0.0 & 0.0 & -0.050 & 0.0 & 0.150 & 0.0 & 0.0 & 0.0\\\\0.0 & 0.0 & 0.0 & 0.0 & -0.050 & 0.0 & 0.0 & 0.0 & 1.0\\\\\\end{array}\\right)\\end{equation*}"
      ],
      "text/plain": [
       "Quantum object: dims = [[3, 3], [3, 3]], shape = [9, 9], type = oper, isherm = True\n",
       "Qobj data =\n",
       "[[ 1.    0.    0.    0.   -0.05  0.    0.    0.    0.  ]\n",
       " [ 0.    0.    0.    0.15  0.   -0.05  0.    0.    0.  ]\n",
       " [ 0.    0.   -1.    0.    0.15  0.    0.    0.    0.  ]\n",
       " [ 0.    0.15  0.    0.    0.    0.    0.   -0.05  0.  ]\n",
       " [-0.05  0.    0.15  0.    0.    0.    0.15  0.   -0.05]\n",
       " [ 0.   -0.05  0.    0.    0.    0.    0.    0.15  0.  ]\n",
       " [ 0.    0.    0.    0.    0.15  0.   -1.    0.    0.  ]\n",
       " [ 0.    0.    0.   -0.05  0.    0.15  0.    0.    0.  ]\n",
       " [ 0.    0.    0.    0.   -0.05  0.    0.    0.    1.  ]]"
      ]
     },
     "execution_count": 410,
     "metadata": {},
     "output_type": "execute_result"
    }
   ],
   "source": [
    "H2 = H(0.1, 0.2, 1.0)\n",
    "H2"
   ]
  },
  {
   "cell_type": "code",
   "execution_count": 411,
   "metadata": {
    "collapsed": false
   },
   "outputs": [
    {
     "data": {
      "text/plain": [
       "-1.0432364160774361"
      ]
     },
     "execution_count": 411,
     "metadata": {},
     "output_type": "execute_result"
    }
   ],
   "source": [
    "g2 = H2.groundstate()\n",
    "ground_state_energy_2 = g2[0]\n",
    "ground_state_energy_2"
   ]
  },
  {
   "cell_type": "code",
   "execution_count": 412,
   "metadata": {
    "collapsed": false
   },
   "outputs": [
    {
     "data": {
      "text/plain": [
       "array([[ 0.00488704+0.j],\n",
       "       [ 0.00000000+0.j],\n",
       "       [-0.69284525+0.j],\n",
       "       [ 0.00000000+0.j],\n",
       "       [ 0.19970764+0.j],\n",
       "       [ 0.00000000+0.j],\n",
       "       [-0.69284525+0.j],\n",
       "       [ 0.00000000+0.j],\n",
       "       [ 0.00488704+0.j]])"
      ]
     },
     "execution_count": 412,
     "metadata": {},
     "output_type": "execute_result"
    }
   ],
   "source": [
    "ground_state_ket_2 = g2[1]\n",
    "ground_state_ket_2.full()"
   ]
  },
  {
   "cell_type": "markdown",
   "metadata": {},
   "source": [
    "# Schmidt Decomposition\n",
    "The schmidt decomposition is related to the SVD decomposition (for a finite dimensional Hilbert space) as follows\n",
    "$$ |\\psi \\rangle = \\sum_i \\sum_j C_{ij} |a \\rangle_i \\otimes |b \\rangle_j = \\sum_i \\sqrt{p_i} | \\alpha \\rangle \\otimes | \\beta \\rangle _i $$\n",
    "where the SVD of the matrix $C_{ij}$ gives vectors $U$, $\\Sigma$, $V$ such that \n",
    "$$ C = U \\Sigma V^\\dagger $$\n",
    "and \n",
    "$$ | \\alpha \\rangle_i = U | a \\rangle_i $$\n",
    "$$ | \\beta \\rangle_i = V^* | b \\rangle_i $$\n",
    "$$ \\Sigma_{ii} = \\sqrt{p_i} $$ "
   ]
  },
  {
   "cell_type": "code",
   "execution_count": 417,
   "metadata": {
    "collapsed": false
   },
   "outputs": [],
   "source": [
    "## Find the canonical expansion coefficients by inspection\n",
    "# System 1\n",
    "-1/(np.sqrt(3))*(\n",
    "    qt.tensor(qt.basis(3, 0), qt.basis(3, 2)) - \n",
    "    qt.tensor(qt.basis(3, 1), qt.basis(3, 1)) + \n",
    "    qt.tensor(qt.basis(3, 2), qt.basis(3, 0))) ;\n",
    "\n",
    "# System 2    \n",
    "0.00488704 * qt.tensor(\n",
    "    qt.basis(3, 0), qt.basis(3, 0)) - 0.69284525 * qt.tensor(\n",
    "    qt.basis(3, 2), qt.basis(3, 0)) + 0.19970764 * qt.tensor(\n",
    "    qt.basis(3, 1), qt.basis(3, 1)) - 0.69284525 * qt.tensor(\n",
    "    qt.basis(3, 0), qt.basis(3, 2)) + 0.00488704 * qt.tensor(\n",
    "    qt.basis(3, 2), qt.basis(3, 2)) ;\n",
    "\n",
    "# canonical basis vectors for n dim system\n",
    "dim = 3\n",
    "basis = [qt.basis(dim, i).full() for i in range(dim)]"
   ]
  },
  {
   "cell_type": "code",
   "execution_count": 414,
   "metadata": {
    "collapsed": false
   },
   "outputs": [
    {
     "data": {
      "text/plain": [
       "[0.57735026918962573, 0.57735026918962573, 0.57735026918962573]"
      ]
     },
     "execution_count": 414,
     "metadata": {},
     "output_type": "execute_result"
    }
   ],
   "source": [
    "# from inspection of system 1\n",
    "C_1 = np.array(\n",
    "    [[0, 0, -np.sqrt(1/3)], \n",
    "     [0, np.sqrt(1/3), 0], \n",
    "     [-np.sqrt(1/3), 0, 0]])\n",
    "res(C_1).T\n",
    "\n",
    "# perform svd\n",
    "U_1, sig_1, Vst_1 = LA.svd(C_1)\n",
    "beta_1 = [Vst_1.T.dot(vec) for vec in basis]\n",
    "alpha_1 = [U_1.dot(vec) for vec in basis]\n",
    "schmidts_1 = [l for l in sig_1]\n",
    "\n",
    "## expansion in terms of the schmidt coefficients \n",
    "## reproduces the original state vector (to machine precision)\n",
    "assert not (sum(\n",
    "        [schmidts_1[i]*\n",
    "         qt.tensor(qt.Qobj(alpha_1[i]), qt.Qobj(beta_1[i])) for i in range(dim)]) -\n",
    "            ground_state_ket_1).full().any()\n",
    "## new vector is normalised\n",
    "assert np.sum([schmidt**2 for schmidt in schmidts_1]) == 1\n",
    "\n",
    "schmidts_1"
   ]
  },
  {
   "cell_type": "code",
   "execution_count": 418,
   "metadata": {
    "collapsed": false
   },
   "outputs": [
    {
     "data": {
      "text/plain": [
       "[0.69773229000000003, 0.68795821000000001, 0.19970763999999999]"
      ]
     },
     "execution_count": 418,
     "metadata": {},
     "output_type": "execute_result"
    }
   ],
   "source": [
    "# from inspection of system 2\n",
    "C_2 = np.array([[0.00488704, 0, -0.69284525], \n",
    "                [0, 0.19970764, 0], \n",
    "                [-0.69284525, 0, 0.00488704]])\n",
    "\n",
    "# perform decomposition, produce new basis vectors and schmidt coefficients\n",
    "prec = 8\n",
    "U_2, sig2, Vst_2 = LA.svd(C_2)\n",
    "beta_2 = [np.around(Vst_2.T.dot(vec), decs) for vec in basis]\n",
    "alpha_2 = [np.around(U_2.dot(vec), decs) for vec in basis]\n",
    "schmidts_2 = [np.around(l, decs) for l in sig_2]\n",
    "\n",
    "## The expansion in terms of the schmidt coefficients \n",
    "## reproduces the original state vector to within 10**8 tolerance\n",
    "assert not (sum(\n",
    "        [schmidts_2[i]*qt.tensor(\n",
    "                qt.Qobj(alpha_2[i]), qt.Qobj(beta_2[i])) for i in range(dim)]) - \n",
    "            ground_state_ket_2).tidyup(10**-prec).full().any()\n",
    "## new vector is normalised \n",
    "assert np.isclose(np.sum([schmidt**2 for schmidt in schmidts_2]), 1)\n",
    "\n",
    "schmidts_2"
   ]
  },
  {
   "cell_type": "markdown",
   "metadata": {},
   "source": [
    "# Von Neumann entropies\n",
    "The von neumann entropy in terms of the Schmidt coefficients\n",
    "$$ S(p) = -\\Sigma \\rho_i ln \\rho_i $$"
   ]
  },
  {
   "cell_type": "code",
   "execution_count": 419,
   "metadata": {
    "collapsed": false
   },
   "outputs": [],
   "source": [
    "def von_neumann_entropy(nums):\n",
    "    '''takes schmidt coefficients and returns von-neumann entropy'''\n",
    "    return -np.sum([num**2*np.log(num**2) for num in nums])"
   ]
  },
  {
   "cell_type": "code",
   "execution_count": 420,
   "metadata": {
    "collapsed": false
   },
   "outputs": [],
   "source": [
    "system_1_von_neumann_entropy = von_neumann_entropy(schmidts_1)\n",
    "system_2_von_neumann_entropy = von_neumann_entropy(schmidts_2)"
   ]
  },
  {
   "cell_type": "code",
   "execution_count": 421,
   "metadata": {
    "collapsed": false,
    "scrolled": false
   },
   "outputs": [
    {
     "data": {
      "text/plain": [
       "(1.0986122886681096, 1.0986122886681098)"
      ]
     },
     "execution_count": 421,
     "metadata": {},
     "output_type": "execute_result"
    }
   ],
   "source": [
    "system_1_von_neumann_entropy, np.log(3)"
   ]
  },
  {
   "cell_type": "code",
   "execution_count": 422,
   "metadata": {
    "collapsed": false,
    "scrolled": false
   },
   "outputs": [
    {
     "data": {
      "text/plain": [
       "0.83297935252154198"
      ]
     },
     "execution_count": 422,
     "metadata": {},
     "output_type": "execute_result"
    }
   ],
   "source": [
    "system_2_von_neumann_entropy"
   ]
  },
  {
   "cell_type": "markdown",
   "metadata": {},
   "source": [
    "System 1 is maximally entangled, and has the corresponding entanglement entropy log(N), w/ N=3 the number of schmidt coefficients"
   ]
  },
  {
   "cell_type": "code",
   "execution_count": 423,
   "metadata": {
    "collapsed": false
   },
   "outputs": [],
   "source": [
    "# Imports, setup, tools\n",
    "import numpy as np\n",
    "import qutip as qt\n",
    "import numpy.linalg as LA\n",
    "import cmath\n",
    "\n",
    "Sx = qt.Qobj((1/np.sqrt(2))*np.array([[0, 1, 0], [1, 0, 1], [0, 1, 0]]))\n",
    "Sy = qt.Qobj((1/(np.sqrt(2)*1j))*np.array([[0, 1, 0], [-1, 0, 1], [0, -1, 0]]))\n",
    "Sz = qt.Qobj(np.array([[1, 0, 0], [0, 0, 0], [0, 0, -1]]))\n",
    "\n",
    "def re_shuffle(array, m, n):\n",
    "    return np.asarray([[np.trace(np.outer(basis[i], basis[j]).T.dot(array)) for i in range(m)] for j in range(n)])\n",
    "\n",
    "def res_shuffle(array, m, n):\n",
    "    return np.asarray([[res(np.outer(basis[i], basis[j])).dot(res(array)) for i in range(m)] for j in range(n)])\n",
    "\n",
    "def res(array):\n",
    "    ret_list = []\n",
    "    for row in array:\n",
    "        ret_list+=list(row)\n",
    "    return np.asarray([ret_list])\n",
    "def vec(array):\n",
    "    ret_list = []\n",
    "    for col in array.T:\n",
    "        ret_list+=list(col.T)\n",
    "    return np.asarray([ret_list])"
   ]
  }
 ],
 "metadata": {
  "kernelspec": {
   "display_name": "Python 3",
   "language": "python",
   "name": "python3"
  },
  "language_info": {
   "codemirror_mode": {
    "name": "ipython",
    "version": 3
   },
   "file_extension": ".py",
   "mimetype": "text/x-python",
   "name": "python",
   "nbconvert_exporter": "python",
   "pygments_lexer": "ipython3",
   "version": "3.5.0"
  }
 },
 "nbformat": 4,
 "nbformat_minor": 0
}
